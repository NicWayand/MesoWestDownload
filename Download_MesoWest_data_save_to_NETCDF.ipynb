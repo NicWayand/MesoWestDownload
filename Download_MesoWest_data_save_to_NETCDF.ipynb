{
 "metadata": {
  "name": "",
  "signature": "sha256:1544b071df9e71522fb08c5061c7cc22b23440b8565888964d7a967783908797"
 },
 "nbformat": 3,
 "nbformat_minor": 0,
 "worksheets": [
  {
   "cells": [
    {
     "cell_type": "code",
     "collapsed": false,
     "input": [
      "from MesoPy import Meso\n",
      "%matplotlib inline\n",
      "import matplotlib\n",
      "import numpy as np\n",
      "import matplotlib.pyplot as plt\n",
      "import json\n",
      "import ast\n",
      "\n",
      "import xray\n",
      "import pandas as pd\n",
      "from netCDF4 import Dataset\n",
      "from netCDF4 import num2date, date2num\n",
      "from datetime import datetime, timedelta\n",
      "import pytz\n",
      "\n",
      "# OS interaction\n",
      "import sys\n",
      "import os\n",
      "\n",
      "# Your Meswest token\n",
      "# Email MesoWest API <mesowestapi@gmail.com> to request a API token\n",
      "m = Meso(api_token='put_token_here')"
     ],
     "language": "python",
     "metadata": {},
     "outputs": [],
     "prompt_number": 2
    },
    {
     "cell_type": "code",
     "collapsed": false,
     "input": [
      "# Path and file name to create\n",
      "ncfilename = os.path.normpath(\"path_to_outout_file_here\")\n",
      "\n",
      "# Manually select stations\n",
      "#sta_id = [stations['STATION'][x]['STID'] for x in range(stations['SUMMARY']['NUMBER_OF_OBJECTS'])]\n",
      "#sta_id = ['tsr18','D4827','NBDNB','TTANN']\n",
      "#sta_id = ['tsr18','tfran','talpe','sno38','rkee','teast']\n",
      "#sta_id = ['ksea','ftaw1','d4827','c5316','tfran','talpe','sno38','cppw1','pefw1','keln']\n",
      "sta_id = ['sno38','talpe','rkee','e3732']\n",
      "\n",
      "# Select stations from lat lon\n",
      "#stations = m.station_list(radius=[-122.34169,47.604528,100]) #, county='King')\n",
      "#stations = m.station_list(bbox=[-120,40,-119,41]) #, county='King')\n",
      "#stations = m.station_list(bbox=[-121.89743,47.139731,-120.839996,47.599189]) #, county='King')\n",
      "\n",
      "# Define variable names to extract\n",
      "# (print allstationdata to see what is available)\n",
      "Vars_ext = ['air_temp_set_1','wind_speed_set_1','wind_direction_set_1']\n",
      "\n",
      "# Define Time period\n",
      "StartDate = '201210010000'\n",
      "EndDate   = '201409302300'"
     ],
     "language": "python",
     "metadata": {},
     "outputs": []
    },
    {
     "cell_type": "code",
     "collapsed": false,
     "input": [
      "#### Function for combining xray data variables into a single array with new labeled dimension\n",
      "def combinevars(ds_in,dat_vars,new_dim_name='new_dim',combinevarname='new_var'):\n",
      "    ds_out = xray.Dataset()\n",
      "    ds_out = xray.concat([ds_in[dv] for dv in dat_vars],dim='new_dim')\n",
      "    ds_out = ds_out.rename({'new_dim': new_dim_name})\n",
      "    ds_out.coords[new_dim_name] = dat_vars\n",
      "    ds_out.name = combinevarname\n",
      "\n",
      "    return ds_out"
     ],
     "language": "python",
     "metadata": {},
     "outputs": [],
     "prompt_number": 3
    },
    {
     "cell_type": "code",
     "collapsed": false,
     "input": [
      "# Grab all time series data from all stations for a given date range\n",
      "# Seems to only allow two years of data...\n",
      "allstationdata = m.timeseries_obs(stid=sta_id, start=StartDate, end=EndDate)\n",
      "N_sta = len(sta_id)"
     ],
     "language": "python",
     "metadata": {},
     "outputs": [],
     "prompt_number": 7
    },
    {
     "cell_type": "code",
     "collapsed": false,
     "input": [
      "#print allstationdata"
     ],
     "language": "python",
     "metadata": {},
     "outputs": [],
     "prompt_number": 8
    },
    {
     "cell_type": "code",
     "collapsed": false,
     "input": [
      "# Check we downloaded all requested station data\n",
      "if allstationdata['SUMMARY']['NUMBER_OF_OBJECTS'] != N_sta:\n",
      "    print allstationdata['SUMMARY']['NUMBER_OF_OBJECTS']\n",
      "    print N_sta\n",
      "    print [ast.literal_eval(json.dumps(allstationdata['STATION'][cs]['NAME'])) for cs in range(0,allstationdata['SUMMARY']['NUMBER_OF_OBJECTS'])]\n",
      "    raise ValueError('Did not find all stations, check names')"
     ],
     "language": "python",
     "metadata": {},
     "outputs": [],
     "prompt_number": 10
    },
    {
     "cell_type": "code",
     "collapsed": false,
     "input": [
      "# Get Station Info\n",
      "Elev  = [ast.literal_eval(json.dumps(allstationdata['STATION'][cs]['ELEVATION'])) for cs in range(0,N_sta)]\n",
      "Lat   = [ast.literal_eval(json.dumps(allstationdata['STATION'][cs]['LATITUDE'])) for cs in range(0,N_sta)]\n",
      "Lon   = [ast.literal_eval(json.dumps(allstationdata['STATION'][cs]['LONGITUDE'])) for cs in range(0,N_sta)]\n",
      "NAME  = [ast.literal_eval(json.dumps(allstationdata['STATION'][cs]['NAME'])) for cs in range(0,N_sta)]"
     ],
     "language": "python",
     "metadata": {},
     "outputs": [],
     "prompt_number": 11
    },
    {
     "cell_type": "code",
     "collapsed": false,
     "input": [
      "# Get timestamp timeseries for all stations (may be different lengths and different time steps)\n",
      "timestamp = []\n",
      "[timestamp.append(ob['OBSERVATIONS']['date_time']) for ob in allstationdata['STATION']]"
     ],
     "language": "python",
     "metadata": {},
     "outputs": [
      {
       "metadata": {},
       "output_type": "pyout",
       "prompt_number": 12,
       "text": [
        "[None, None, None, None]"
       ]
      }
     ],
     "prompt_number": 12
    },
    {
     "cell_type": "code",
     "collapsed": false,
     "input": [
      "# Loop through each variable to extract\n",
      "DS_list = [] # Empty list of each dataset containing one variable\n",
      "for cVar in Vars_ext:\n",
      "    # Get timeseries of data for all stations\n",
      "    temp_list = []\n",
      "    [temp_list.append(ob['OBSERVATIONS'][cVar]) for ob in allstationdata['STATION']]\n",
      "    \n",
      "    \n",
      "    # Make dictionary of site and xray data array\n",
      "    dict1 = {}\n",
      "    for csta in range(0,len(sta_id)):\n",
      "        c_t = [datetime.strptime(ast.literal_eval(json.dumps(timestamp[csta][cd])), '%Y-%m-%dT%H:%M:%SZ') for cd in range(len(timestamp[csta]))]\n",
      "        dict1[sta_id[csta]] = xray.DataArray(np.array(temp_list[csta]), coords=[c_t], dims=['time'])\n",
      "\n",
      "    # Make it a dataset\n",
      "    ds_temp_Var = xray.Dataset(dict1)\n",
      "    \n",
      "    # Resample to common time step\n",
      "    # Data contains mix of 15, 10, and 5 min data\n",
      "    ds_temp_Var_1hr = ds_temp_Var.resample(freq='H',dim='time',how='mean',label='right')\n",
      "\n",
      "    # Combine stations\n",
      "    DS_list.append(combinevars(ds_temp_Var_1hr,sta_id,new_dim_name='site',combinevarname=cVar))\n",
      "    "
     ],
     "language": "python",
     "metadata": {},
     "outputs": [],
     "prompt_number": 20
    },
    {
     "cell_type": "code",
     "collapsed": false,
     "input": [
      "# Make dictionary list\n",
      "DIC1 = dict(zip([cv.name for cv in DS_list],DS_list))"
     ],
     "language": "python",
     "metadata": {},
     "outputs": [],
     "prompt_number": 23
    },
    {
     "cell_type": "code",
     "collapsed": false,
     "input": [
      "# Combine all Datasets\n",
      "ds_ALL = xray.Dataset(DIC1)"
     ],
     "language": "python",
     "metadata": {},
     "outputs": [],
     "prompt_number": 24
    },
    {
     "cell_type": "code",
     "collapsed": false,
     "input": [
      "# Fill in descriptive variables\n",
      "ds_ALL.coords['lat'] = ('site',[float(x) for x in Lat])\n",
      "ds_ALL.coords['lon'] = ('site',[float(x) for x in Lon])\n",
      "ds_ALL.coords['elev'] = ('site',[float(x) for x in Elev])\n",
      "ds_ALL.coords['sta_name'] = ('site',NAME)"
     ],
     "language": "python",
     "metadata": {},
     "outputs": [],
     "prompt_number": 25
    },
    {
     "cell_type": "code",
     "collapsed": false,
     "input": [
      "## Output to netcdf\n",
      "ds_ALL.to_netcdf(ncfilename)"
     ],
     "language": "python",
     "metadata": {},
     "outputs": [],
     "prompt_number": 26
    },
    {
     "cell_type": "code",
     "collapsed": false,
     "input": [
      "#print ds_ALL.coords"
     ],
     "language": "python",
     "metadata": {},
     "outputs": [
      {
       "metadata": {},
       "output_type": "pyout",
       "prompt_number": 27,
       "text": [
        "Coordinates:\n",
        "  * site      (site) |S5 'sno38' 'talpe' 'rkee' 'e3732'\n",
        "  * time      (time) datetime64[ns] 2012-10-01T01:00:00 2012-10-01T02:00:00 ...\n",
        "    lat       (site) float64 47.21 47.32 47.42 47.43\n",
        "    lon       (site) float64 -121.1 -121.3 -121.4 -121.4\n",
        "    elev      (site) float64 2.117e+03 2.45e+03 3.76e+03 2.874e+03\n",
        "    sta_name  (site) |S29 'EW3732 Cle Elum' 'Keechelus Reservoir' ..."
       ]
      }
     ],
     "prompt_number": 27
    },
    {
     "cell_type": "code",
     "collapsed": false,
     "input": [],
     "language": "python",
     "metadata": {},
     "outputs": [],
     "prompt_number": 94
    },
    {
     "cell_type": "code",
     "collapsed": false,
     "input": [],
     "language": "python",
     "metadata": {},
     "outputs": []
    }
   ],
   "metadata": {}
  }
 ]
}